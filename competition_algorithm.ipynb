{
 "cells": [
  {
   "cell_type": "code",
   "execution_count": 67,
   "id": "52d468f8",
   "metadata": {},
   "outputs": [],
   "source": [
    "from networkx.algorithms.community.centrality import girvan_newman\n",
    "from networkx.algorithms import community\n",
    "import networkx as nx\n",
    "import numpy as np\n",
    "import community.community_louvain as community_louvain\n",
    "import matplotlib.pyplot as plt\n",
    "from numpy import genfromtxt\n",
    "import os\n",
    "from numpy import savetxt\n",
    "import time\n",
    "plt.rcParams['figure.figsize'] = 15,10"
   ]
  },
  {
   "cell_type": "markdown",
   "id": "b17eed27",
   "metadata": {},
   "source": [
    "# Datasets"
   ]
  },
  {
   "cell_type": "code",
   "execution_count": 24,
   "id": "3c84ebb8",
   "metadata": {},
   "outputs": [],
   "source": [
    "def read_datasets(path):\n",
    "    directory = os.fsencode(path)\n",
    "    datasets = []\n",
    "    for file in os.listdir(directory):\n",
    "        filename = os.fsdecode(file)\n",
    "        file_path = os.path.join(path, filename)\n",
    "        parts = filename.split(\"=\")\n",
    "        if len(parts) > 1:\n",
    "            k = int(\"\".join(filter(str.isdigit, parts[1])))\n",
    "            datasets.append([file_path, k]) \n",
    "        else:\n",
    "            datasets.append([file_path])  \n",
    "    return datasets"
   ]
  },
  {
   "cell_type": "code",
   "execution_count": 25,
   "id": "c599ce20",
   "metadata": {
    "scrolled": true
   },
   "outputs": [
    {
     "name": "stdout",
     "output_type": "stream",
     "text": [
      "[['C:\\\\Users\\\\Monika\\\\Desktop\\\\Studia\\\\SN\\\\Untitled Folder\\\\competition\\\\datasets\\\\D1-K=2.csv', 2], ['C:\\\\Users\\\\Monika\\\\Desktop\\\\Studia\\\\SN\\\\Untitled Folder\\\\competition\\\\datasets\\\\D1-UNC.csv'], ['C:\\\\Users\\\\Monika\\\\Desktop\\\\Studia\\\\SN\\\\Untitled Folder\\\\competition\\\\datasets\\\\D2-K=7.csv', 7], ['C:\\\\Users\\\\Monika\\\\Desktop\\\\Studia\\\\SN\\\\Untitled Folder\\\\competition\\\\datasets\\\\D2-UNC.csv'], ['C:\\\\Users\\\\Monika\\\\Desktop\\\\Studia\\\\SN\\\\Untitled Folder\\\\competition\\\\datasets\\\\D3-K=12.csv', 12], ['C:\\\\Users\\\\Monika\\\\Desktop\\\\Studia\\\\SN\\\\Untitled Folder\\\\competition\\\\datasets\\\\D3-UNC.csv']]\n"
     ]
    }
   ],
   "source": [
    "path = 'datasets'\n",
    "datasets = read_datasets(os.path.join(os.getcwd(), path))\n",
    "print(datasets)"
   ]
  },
  {
   "cell_type": "markdown",
   "id": "c0a395b1",
   "metadata": {},
   "source": [
    "# Algorithms"
   ]
  },
  {
   "cell_type": "code",
   "execution_count": 68,
   "id": "b2417d11",
   "metadata": {},
   "outputs": [],
   "source": [
    "def edge_to_remove(G):\n",
    "    scores = nx.edge_betweenness_centrality(G)\n",
    "    scores = dict(sorted(scores.items(), key=lambda item: item[1], reverse = True))\n",
    "    return list(scores.keys())[0]\n",
    "\n",
    "def create_list(cc):\n",
    "    partition = []\n",
    "    for c in cc:\n",
    "        partition.append(c)\n",
    "    return partition\n",
    "    \n",
    "def gn(G, k=None):\n",
    "    cc = nx.connected_components(G)\n",
    "    cc_count = nx.number_connected_components(G)\n",
    "    n = G.number_of_nodes()\n",
    "    scores_dict = {}\n",
    "    if k == None:\n",
    "        stop = n-1\n",
    "    else:\n",
    "        stop = k+1\n",
    "\n",
    "    while(cc_count < stop):\n",
    "        vs = edge_to_remove(G)\n",
    "        G.remove_edge(vs[0], vs[1])\n",
    "        cc = nx.connected_components(G)\n",
    "        new_cc_count = nx.number_connected_components(G)\n",
    "        if new_cc_count > cc_count:\n",
    "            part_list = create_list(cc)\n",
    "            score = community.quality.modularity(G, part_list)\n",
    "            scores_dict[new_cc_count] = [score, part_list]\n",
    "            cc_count = new_cc_count\n",
    "    scores_dict = dict(sorted(scores_dict.items(), key=lambda item: item[1][0], reverse = True))\n",
    "    scores = scores_dict.items()\n",
    "    if k == None:\n",
    "        score = list(scores)[0]\n",
    "    else:\n",
    "        score = scores_dict[k]"
   ]
  },
  {
   "cell_type": "code",
   "execution_count": 58,
   "id": "3389f890",
   "metadata": {},
   "outputs": [],
   "source": [
    "def edge_to_remove(G):\n",
    "    scores = nx.edge_betweenness_centrality(G)\n",
    "    scores = dict(sorted(scores.items(), key=lambda item: item[1], reverse = True))\n",
    "    return list(scores.keys())[0]\n",
    "\n",
    "def create_list(cc):\n",
    "    partition = []\n",
    "    for c in cc:\n",
    "        partition.append(c)\n",
    "    return partition\n",
    "\n",
    "def prepare_results(score):\n",
    "    clusters = score[1]\n",
    "    results = []\n",
    "    for i, cluster in enumerate(clusters):\n",
    "        for point in cluster:\n",
    "            results.append([point+1, i+1])\n",
    "    results = np.array(results).astype(int)\n",
    "    ind = np.argsort(results[:, 0])\n",
    "    results = results[ind]\n",
    "    return np.array(results).astype(int)\n",
    "        \n",
    "def gn(G, k=None):\n",
    "    cc = nx.connected_components(G)\n",
    "    cc_count = nx.number_connected_components(G)\n",
    "    n = G.number_of_nodes()\n",
    "    scores_dict = {}\n",
    "    if k == None:\n",
    "        stop = n-1\n",
    "    else:\n",
    "        stop = k+1\n",
    "\n",
    "    while(cc_count < stop):\n",
    "        vs = edge_to_remove(G)\n",
    "        G.remove_edge(vs[0], vs[1])\n",
    "        cc = nx.connected_components(G)\n",
    "        new_cc_count = nx.number_connected_components(G)\n",
    "        if new_cc_count > cc_count:\n",
    "            part_list = create_list(cc)\n",
    "            score = community.quality.modularity(G, part_list)\n",
    "            scores_dict[new_cc_count] = [score, part_list]\n",
    "            cc_count = new_cc_count\n",
    "    scores_dict = dict(sorted(scores_dict.items(), key=lambda item: item[1][0], reverse = True))\n",
    "    scores = scores_dict.values()\n",
    "    if k == None:\n",
    "        score = list(scores)[0]\n",
    "    else:\n",
    "        score = scores_dict[k]\n",
    "    return score"
   ]
  },
  {
   "cell_type": "code",
   "execution_count": 65,
   "id": "92952a7b",
   "metadata": {},
   "outputs": [],
   "source": [
    "def calc_results(datasets, path_results=None):\n",
    "    for dataset in datasets:\n",
    "        if len(dataset) > 1:\n",
    "            path, k = dataset\n",
    "        else:\n",
    "            path = dataset[0]\n",
    "            k = None\n",
    "        \n",
    "        with open(path, 'r') as f:\n",
    "            my_data = genfromtxt(f, delimiter=',')\n",
    "        f.close()\n",
    "        \n",
    "        G = nx.from_numpy_matrix(my_data)\n",
    "        start_time = time.time()\n",
    "        scores = gn(G.copy(), k)\n",
    "        file_name = os.path.basename(path)\n",
    "        print(f'Time for {file_name}: {time.time() - start_time} s')\n",
    "        scores = prepare_results(scores)\n",
    "        path_out = os.path.join(path_results, file_name)\n",
    "        savetxt(path_out, scores, delimiter=',', fmt='%i')       "
   ]
  },
  {
   "cell_type": "markdown",
   "id": "7aa79901",
   "metadata": {},
   "source": [
    "# Results"
   ]
  },
  {
   "cell_type": "code",
   "execution_count": 66,
   "id": "749b41f5",
   "metadata": {
    "scrolled": false
   },
   "outputs": [
    {
     "name": "stdout",
     "output_type": "stream",
     "text": [
      "Time for D1-K=2.csv: 0.0498652458190918 s\n",
      "Time for D1-UNC.csv: 2.7904694080352783 s\n",
      "Time for D2-K=7.csv: 0.26976966857910156 s\n",
      "Time for D2-UNC.csv: 17.86822509765625 s\n",
      "Time for D3-K=12.csv: 5.585643291473389 s\n",
      "Time for D3-UNC.csv: 3.284228801727295 s\n"
     ]
    }
   ],
   "source": [
    "calc_results(datasets, path_results='results')"
   ]
  }
 ],
 "metadata": {
  "kernelspec": {
   "display_name": "Python 3 (ipykernel)",
   "language": "python",
   "name": "python3"
  },
  "language_info": {
   "codemirror_mode": {
    "name": "ipython",
    "version": 3
   },
   "file_extension": ".py",
   "mimetype": "text/x-python",
   "name": "python",
   "nbconvert_exporter": "python",
   "pygments_lexer": "ipython3",
   "version": "3.9.7"
  }
 },
 "nbformat": 4,
 "nbformat_minor": 5
}
